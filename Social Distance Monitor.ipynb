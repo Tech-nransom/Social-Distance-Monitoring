{
 "cells": [
  {
   "cell_type": "markdown",
   "metadata": {},
   "source": [
    "Social Distancing Monitor<br><br>\n",
   ]
  },
  {
   "cell_type": "code",
   "execution_count": 1,
   "metadata": {},
   "outputs": [],
   "source": [
    "from scipy.spatial import distance as dist\n",
    "import numpy as np\n",
    "import cv2"
   ]
  },
  {
   "cell_type": "code",
   "execution_count": 2,
   "metadata": {},
   "outputs": [],
   "source": [
    "cap= cv2.VideoCapture(0)\n",
    "face_cascade = cv2.CascadeClassifier('haarcascade_frontalface_default.xml')\n",
    "\n",
    "while True:\n",
    "    _,image = cap.read()\n",
    "    image = cv2.flip(image,1)\n",
    "    \n",
    "    gray = cv2.cvtColor(image, cv2.COLOR_BGR2GRAY)\n",
    "    gray = cv2.GaussianBlur(gray, (7, 7), 0)\n",
    "    faces = face_cascade.detectMultiScale(gray, 1.3, 5)\n",
    "    centers= []\n",
    "    # Caputring the Centers of the Faces\n",
    "    for (x,y,w,h) in faces:\n",
    "        cX = x+ (w//2)\n",
    "        cY = y+ (h//2)\n",
    "        centers.append((cX,cY))\n",
    "        cv2.rectangle(image,(x,y),((x+w),(y+h)),(0,255,0),3)\n",
    "\n",
    "    #Sorting them\n",
    "    centers.sort()\n",
    "    cnt = 0\n",
    "    if len(centers)>=2:\n",
    "        for i in range(len(centers)-1):\n",
    "            \n",
    "            #Calculating the Distance Between Persons faces\n",
    "            D = dist.euclidean(centers[i],centers[i+1])\n",
    "            if D < 200:\n",
    "                cv2.line(image,centers[i],centers[i+1],(0,0,255),4)\n",
    "                #Counting the Voilations\n",
    "                cnt += 1\n",
    "            else:\n",
    "                cv2.line(image,centers[i],centers[i+1],(0,255,0),4)\n",
    "    image = cv2.putText(image,\"Voilations:\"+str(cnt),(50,50),cv2.FONT_HERSHEY_COMPLEX_SMALL,1,(0,255,0))\n",
    "    #Displaying the Result\n",
    "    cv2.imshow(\"Image\", image)\n",
    "    if cv2.waitKey(1) & 0xFF == ord(\"q\"):\n",
    "        cv2.destroyAllWindows()\n",
    "        cap.release()\n",
    "        break"
   ]
  },
  {
   "cell_type": "code",
   "execution_count": null,
   "metadata": {},
   "outputs": [],
   "source": []
  },
  {
   "cell_type": "code",
   "execution_count": null,
   "metadata": {},
   "outputs": [],
   "source": []
  }
 ],
 "metadata": {
  "kernelspec": {
   "display_name": "Python 3",
   "language": "python",
   "name": "python3"
  },
  "language_info": {
   "codemirror_mode": {
    "name": "ipython",
    "version": 3
   },
   "file_extension": ".py",
   "mimetype": "text/x-python",
   "name": "python",
   "nbconvert_exporter": "python",
   "pygments_lexer": "ipython3",
   "version": "3.8.5"
  }
 },
 "nbformat": 4,
 "nbformat_minor": 4
}
